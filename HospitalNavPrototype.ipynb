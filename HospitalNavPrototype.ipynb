{
  "nbformat": 4,
  "nbformat_minor": 0,
  "metadata": {
    "colab": {
      "name": "HospitalNavPrototype.ipynb",
      "provenance": [],
      "collapsed_sections": [],
      "authorship_tag": "ABX9TyM7hA22ZRkhT3nyVpKihRP6",
      "include_colab_link": true
    },
    "kernelspec": {
      "name": "python3",
      "display_name": "Python 3"
    },
    "widgets": {
      "application/vnd.jupyter.widget-state+json": {
        "4f1c0f227bf74d78a0b4a090cf63566b": {
          "model_module": "@jupyter-widgets/controls",
          "model_name": "VBoxModel",
          "state": {
            "_view_name": "VBoxView",
            "_dom_classes": [
              "widget-interact"
            ],
            "_model_name": "VBoxModel",
            "_view_module": "@jupyter-widgets/controls",
            "_model_module_version": "1.5.0",
            "_view_count": null,
            "_view_module_version": "1.5.0",
            "box_style": "",
            "layout": "IPY_MODEL_70f88c63f2024df1a77ef3b104ee0482",
            "_model_module": "@jupyter-widgets/controls",
            "children": [
              "IPY_MODEL_9ae86d08ffd94b6d8f3fad235f047fc6",
              "IPY_MODEL_baa127e71a2a4228844a3dfab6c5ac7a"
            ]
          }
        },
        "70f88c63f2024df1a77ef3b104ee0482": {
          "model_module": "@jupyter-widgets/base",
          "model_name": "LayoutModel",
          "state": {
            "_view_name": "LayoutView",
            "grid_template_rows": null,
            "right": null,
            "justify_content": null,
            "_view_module": "@jupyter-widgets/base",
            "overflow": null,
            "_model_module_version": "1.2.0",
            "_view_count": null,
            "flex_flow": null,
            "width": null,
            "min_width": null,
            "border": null,
            "align_items": null,
            "bottom": null,
            "_model_module": "@jupyter-widgets/base",
            "top": null,
            "grid_column": null,
            "overflow_y": null,
            "overflow_x": null,
            "grid_auto_flow": null,
            "grid_area": null,
            "grid_template_columns": null,
            "flex": null,
            "_model_name": "LayoutModel",
            "justify_items": null,
            "grid_row": null,
            "max_height": null,
            "align_content": null,
            "visibility": null,
            "align_self": null,
            "height": null,
            "min_height": null,
            "padding": null,
            "grid_auto_rows": null,
            "grid_gap": null,
            "max_width": null,
            "order": null,
            "_view_module_version": "1.2.0",
            "grid_template_areas": null,
            "object_position": null,
            "object_fit": null,
            "grid_auto_columns": null,
            "margin": null,
            "display": null,
            "left": null
          }
        },
        "9ae86d08ffd94b6d8f3fad235f047fc6": {
          "model_module": "@jupyter-widgets/controls",
          "model_name": "SelectModel",
          "state": {
            "_options_labels": [
              "Haus1",
              "Haus10",
              "Haus11",
              "Haus12",
              "Haus13",
              "Haus14",
              "Haus15",
              "Haus16",
              "Haus17",
              "Haus19",
              "Haus2",
              "Haus20",
              "Haus22",
              "Haus24",
              "Haus25",
              "Haus26",
              "Haus27",
              "Haus28",
              "Haus29",
              "Haus3",
              "Haus30",
              "Haus31",
              "Haus32",
              "Haus33",
              "Haus34",
              "Haus35",
              "Haus36",
              "Haus37",
              "Haus39",
              "Haus4",
              "Haus40",
              "Haus41",
              "Haus42",
              "Haus43",
              "Haus5",
              "Haus6",
              "Haus7",
              "Haus8",
              "Haus9"
            ],
            "_view_name": "SelectView",
            "style": "IPY_MODEL_c5ac08184d0a46ecbf7807108de924ff",
            "rows": 5,
            "_dom_classes": [],
            "description": "Wo wollen sie hin:",
            "_model_name": "SelectModel",
            "index": 19,
            "_view_module": "@jupyter-widgets/controls",
            "_model_module_version": "1.5.0",
            "_view_count": null,
            "disabled": false,
            "_view_module_version": "1.5.0",
            "description_tooltip": null,
            "_model_module": "@jupyter-widgets/controls",
            "layout": "IPY_MODEL_897b9ef05f8642a0a163df4b55961954"
          }
        },
        "baa127e71a2a4228844a3dfab6c5ac7a": {
          "model_module": "@jupyter-widgets/output",
          "model_name": "OutputModel",
          "state": {
            "_view_name": "OutputView",
            "msg_id": "",
            "_dom_classes": [],
            "_model_name": "OutputModel",
            "outputs": [
              {
                "output_type": "stream",
                "metadata": {
                  "tags": []
                },
                "text": "position w, destination Haus3\n",
                "stream": "stdout"
              },
              {
                "output_type": "display_data",
                "metadata": {
                  "tags": []
                },
                "text/html": "<div style=\"width:100%;\"><div style=\"position:relative;width:100%;height:0;padding-bottom:60%;\"><span style=\"color:#565656\">Make this Notebook Trusted to load map: File -> Trust Notebook</span><iframe src=\"about:blank\" style=\"position:absolute;width:100%;height:100%;left:0;top:0;border:none !important;\" data-html=%3C%21DOCTYPE%20html%3E%0A%3Chead%3E%20%20%20%20%0A%20%20%20%20%3Cmeta%20http-equiv%3D%22content-type%22%20content%3D%22text/html%3B%20charset%3DUTF-8%22%20/%3E%0A%20%20%20%20%3Cscript%3EL_PREFER_CANVAS%3Dfalse%3B%20L_NO_TOUCH%3Dfalse%3B%20L_DISABLE_3D%3Dfalse%3B%3C/script%3E%0A%20%20%20%20%3Cscript%20src%3D%22https%3A//cdn.jsdelivr.net/npm/leaflet%401.4.0/dist/leaflet.js%22%3E%3C/script%3E%0A%20%20%20%20%3Cscript%20src%3D%22https%3A//code.jquery.com/jquery-1.12.4.min.js%22%3E%3C/script%3E%0A%20%20%20%20%3Cscript%20src%3D%22https%3A//maxcdn.bootstrapcdn.com/bootstrap/3.2.0/js/bootstrap.min.js%22%3E%3C/script%3E%0A%20%20%20%20%3Cscript%20src%3D%22https%3A//cdnjs.cloudflare.com/ajax/libs/Leaflet.awesome-markers/2.0.2/leaflet.awesome-markers.js%22%3E%3C/script%3E%0A%20%20%20%20%3Clink%20rel%3D%22stylesheet%22%20href%3D%22https%3A//cdn.jsdelivr.net/npm/leaflet%401.4.0/dist/leaflet.css%22/%3E%0A%20%20%20%20%3Clink%20rel%3D%22stylesheet%22%20href%3D%22https%3A//maxcdn.bootstrapcdn.com/bootstrap/3.2.0/css/bootstrap.min.css%22/%3E%0A%20%20%20%20%3Clink%20rel%3D%22stylesheet%22%20href%3D%22https%3A//maxcdn.bootstrapcdn.com/bootstrap/3.2.0/css/bootstrap-theme.min.css%22/%3E%0A%20%20%20%20%3Clink%20rel%3D%22stylesheet%22%20href%3D%22https%3A//maxcdn.bootstrapcdn.com/font-awesome/4.6.3/css/font-awesome.min.css%22/%3E%0A%20%20%20%20%3Clink%20rel%3D%22stylesheet%22%20href%3D%22https%3A//cdnjs.cloudflare.com/ajax/libs/Leaflet.awesome-markers/2.0.2/leaflet.awesome-markers.css%22/%3E%0A%20%20%20%20%3Clink%20rel%3D%22stylesheet%22%20href%3D%22https%3A//rawcdn.githack.com/python-visualization/folium/master/folium/templates/leaflet.awesome.rotate.css%22/%3E%0A%20%20%20%20%3Cstyle%3Ehtml%2C%20body%20%7Bwidth%3A%20100%25%3Bheight%3A%20100%25%3Bmargin%3A%200%3Bpadding%3A%200%3B%7D%3C/style%3E%0A%20%20%20%20%3Cstyle%3E%23map%20%7Bposition%3Aabsolute%3Btop%3A0%3Bbottom%3A0%3Bright%3A0%3Bleft%3A0%3B%7D%3C/style%3E%0A%20%20%20%20%0A%20%20%20%20%3Cmeta%20name%3D%22viewport%22%20content%3D%22width%3Ddevice-width%2C%0A%20%20%20%20%20%20%20%20initial-scale%3D1.0%2C%20maximum-scale%3D1.0%2C%20user-scalable%3Dno%22%20/%3E%0A%20%20%20%20%3Cstyle%3E%23map_f24cdbaf9d564274b667f22a544c3ed0%20%7B%0A%20%20%20%20%20%20%20%20position%3A%20relative%3B%0A%20%20%20%20%20%20%20%20width%3A%2075.0%25%3B%0A%20%20%20%20%20%20%20%20height%3A%20100.0%25%3B%0A%20%20%20%20%20%20%20%20left%3A%200.0%25%3B%0A%20%20%20%20%20%20%20%20top%3A%200.0%25%3B%0A%20%20%20%20%20%20%20%20%7D%0A%20%20%20%20%3C/style%3E%0A%20%20%20%20%3Cscript%20src%3D%22https%3A//cdn.jsdelivr.net/npm/leaflet-ant-path%401.1.2/dist/leaflet-ant-path.min.js%22%3E%3C/script%3E%0A%3C/head%3E%0A%3Cbody%3E%20%20%20%20%0A%20%20%20%20%0A%20%20%20%20%3Cdiv%20class%3D%22folium-map%22%20id%3D%22map_f24cdbaf9d564274b667f22a544c3ed0%22%20%3E%3C/div%3E%0A%3C/body%3E%0A%3Cscript%3E%20%20%20%20%0A%20%20%20%20%0A%20%20%20%20%0A%20%20%20%20%20%20%20%20var%20bounds%20%3D%20null%3B%0A%20%20%20%20%0A%0A%20%20%20%20var%20map_f24cdbaf9d564274b667f22a544c3ed0%20%3D%20L.map%28%0A%20%20%20%20%20%20%20%20%27map_f24cdbaf9d564274b667f22a544c3ed0%27%2C%20%7B%0A%20%20%20%20%20%20%20%20center%3A%20%5B49.49216583285166%2C%208.484229445457458%5D%2C%0A%20%20%20%20%20%20%20%20zoom%3A%2017%2C%0A%20%20%20%20%20%20%20%20maxBounds%3A%20bounds%2C%0A%20%20%20%20%20%20%20%20layers%3A%20%5B%5D%2C%0A%20%20%20%20%20%20%20%20worldCopyJump%3A%20false%2C%0A%20%20%20%20%20%20%20%20crs%3A%20L.CRS.EPSG3857%2C%0A%20%20%20%20%20%20%20%20zoomControl%3A%20true%2C%0A%20%20%20%20%20%20%20%20%7D%29%3B%0A%0A%0A%20%20%20%20%0A%20%20%20%20var%20tile_layer_4b3735cea55f45298364cc48d7b16354%20%3D%20L.tileLayer%28%0A%20%20%20%20%20%20%20%20%27https%3A//%7Bs%7D.tile.openstreetmap.org/%7Bz%7D/%7Bx%7D/%7By%7D.png%27%2C%0A%20%20%20%20%20%20%20%20%7B%0A%20%20%20%20%20%20%20%20%22attribution%22%3A%20null%2C%0A%20%20%20%20%20%20%20%20%22detectRetina%22%3A%20false%2C%0A%20%20%20%20%20%20%20%20%22maxNativeZoom%22%3A%2018%2C%0A%20%20%20%20%20%20%20%20%22maxZoom%22%3A%2018%2C%0A%20%20%20%20%20%20%20%20%22minZoom%22%3A%200%2C%0A%20%20%20%20%20%20%20%20%22noWrap%22%3A%20false%2C%0A%20%20%20%20%20%20%20%20%22opacity%22%3A%201%2C%0A%20%20%20%20%20%20%20%20%22subdomains%22%3A%20%22abc%22%2C%0A%20%20%20%20%20%20%20%20%22tms%22%3A%20false%0A%7D%29.addTo%28map_f24cdbaf9d564274b667f22a544c3ed0%29%3B%0A%20%20%20%20%0A%20%20%20%20%20%20%20%20%20%20%20%20%20%20%20%20ant_path_27035dc954c7496cb855c8e0540a19e1%20%3D%20L.polyline.antPath%28%0A%20%20%20%20%20%20%20%20%20%20%20%20%20%20%20%20%20%20%5B%5B49.49212227697559%2C%208.484165072441101%5D%2C%20%5B49.49232786037041%2C%208.48429650068283%5D%2C%20%5B49.492348767107956%2C%208.484532535076141%5D%2C%20%5B49.492218099851804%2C%208.484991192817688%5D%5D%2C%0A%20%20%20%20%20%20%20%20%20%20%20%20%20%20%20%20%20%20%7B%0A%20%20%22bubblingMouseEvents%22%3A%20true%2C%0A%20%20%22color%22%3A%20%22%230000FF%22%2C%0A%20%20%22dashArray%22%3A%20%5B%0A%20%20%20%2010%2C%0A%20%20%20%2020%0A%20%20%5D%2C%0A%20%20%22dashOffset%22%3A%20null%2C%0A%20%20%22delay%22%3A%20400%2C%0A%20%20%22fill%22%3A%20false%2C%0A%20%20%22fillColor%22%3A%20%22%233388ff%22%2C%0A%20%20%22fillOpacity%22%3A%200.2%2C%0A%20%20%22fillRule%22%3A%20%22evenodd%22%2C%0A%20%20%22hardwareAcceleration%22%3A%20false%2C%0A%20%20%22lineCap%22%3A%20%22round%22%2C%0A%20%20%22lineJoin%22%3A%20%22round%22%2C%0A%20%20%22noClip%22%3A%20false%2C%0A%20%20%22opacity%22%3A%200.5%2C%0A%20%20%22paused%22%3A%20false%2C%0A%20%20%22pulseColor%22%3A%20%22%23FFFFFF%22%2C%0A%20%20%22reverse%22%3A%20false%2C%0A%20%20%22smoothFactor%22%3A%201.0%2C%0A%20%20%22stroke%22%3A%20true%2C%0A%20%20%22weight%22%3A%205%0A%7D%0A%20%20%20%20%20%20%20%20%20%20%20%20%20%20%20%20%29%0A%20%20%20%20%20%20%20%20%20%20%20%20%20%20%20%20.addTo%28map_f24cdbaf9d564274b667f22a544c3ed0%29%3B%0A%20%20%20%20%20%20%20%20%20%20%20%20%0A%20%20%20%20%0A%20%20%20%20%20%20%20%20var%20geo_json_5a684e321cec458f813e2d978314a173%20%3D%20L.geoJson%28%0A%20%20%20%20%20%20%20%20%20%20%20%20%7B%22features%22%3A%20%5B%7B%22geometry%22%3A%20%7B%22coordinates%22%3A%20%5B%5B%5B8.48430521786213%2C%2049.49229606468993%5D%2C%20%5B8.484452068805695%2C%2049.49232263368463%5D%2C%20%5B8.484538570046423%2C%2049.492300420263824%5D%2C%20%5B8.484520465135574%2C%2049.4922742868147%5D%2C%20%5B8.484444692730904%2C%2049.492297806919545%5D%2C%20%5B8.484389036893845%2C%2049.49221635761936%5D%2C%20%5B8.484630435705185%2C%2049.49214274824218%5D%2C%20%5B8.484710231423378%2C%2049.49225250892974%5D%2C%20%5B8.484915420413017%2C%2049.49218978856699%5D%2C%20%5B8.48486915230751%2C%2049.492121405857674%5D%2C%20%5B8.484907373785973%2C%2049.49210833908704%5D%2C%20%5B8.484817519783974%2C%2049.49197984899023%5D%2C%20%5B8.484759852290154%2C%2049.491998578076206%5D%2C%20%5B8.484715595841408%2C%2049.491938906312264%5D%2C%20%5B8.484949618577957%2C%2049.49186790988522%5D%2C%20%5B8.484989181160925%2C%2049.491925839492936%5D%2C%20%5B8.484943583607674%2C%2049.491940212993995%5D%2C%20%5B8.485032767057419%2C%2049.49206478315983%5D%2C%20%5B8.485077023506165%2C%2049.49205171637411%5D%2C%20%5B8.485093116760254%2C%2049.49206913875431%5D%2C%20%5B8.485490083694458%2C%2049.491950666446684%5D%2C%20%5B8.485469967126846%2C%2049.491916692717325%5D%2C%20%5B8.48567247390747%2C%2049.491855714169596%5D%2C%20%5B8.485697954893112%2C%2049.49189230130735%5D%2C%20%5B8.486102968454361%2C%2049.491769472951%5D%2C%20%5B8.486092239618301%2C%2049.49175030821511%5D%2C%20%5B8.486132472753525%2C%2049.491740725844345%5D%2C%20%5B8.486042618751526%2C%2049.49161528372693%5D%2C%20%5B8.485994338989258%2C%2049.491625737248974%5D%2C%20%5B8.485952764749527%2C%2049.49156475833879%5D%2C%20%5B8.486180752515793%2C%2049.49149681032085%5D%2C%20%5B8.486223667860031%2C%2049.491554304803714%5D%2C%20%5B8.48617136478424%2C%2049.49156824285%5D%2C%20%5B8.486270606517792%2C%2049.49170326746795%5D%2C%20%5B8.486306816339493%2C%2049.491693685087995%5D%2C%20%5B8.486398681998253%2C%2049.49181956256615%5D%2C%20%5B8.486366495490072%2C%2049.49183001604459%5D%2C%20%5B8.486465066671371%2C%2049.491970266664424%5D%2C%20%5B8.486507311463356%2C%2049.491958506534715%5D%2C%20%5B8.486545532941818%2C%2049.49201556491542%5D%2C%20%5B8.486312851309776%2C%2049.49208612556902%5D%2C%20%5B8.486271277070045%2C%2049.492026018352%5D%2C%20%5B8.48633162677288%2C%2049.492008160396466%5D%2C%20%5B8.486233055591581%2C%2049.491869216568865%5D%2C%20%5B8.486182764172552%2C%2049.491886203452964%5D%2C%20%5B8.486161977052689%2C%2049.4918544074856%5D%2C%20%5B8.486038595438004%2C%2049.491890559063314%5D%2C%20%5B8.486060723662376%2C%2049.49191974164271%5D%2C%20%5B8.48593533039093%2C%2049.49195676429304%5D%2C%20%5B8.485971540212631%2C%2049.4920051114766%5D%2C%20%5B8.486041948199272%2C%2049.491985075712634%5D%2C%20%5B8.486106991767883%2C%2049.49207828550142%5D%2C%20%5B8.485984951257706%2C%2049.49211617914985%5D%2C%20%5B8.48591722548008%2C%2049.49202166275368%5D%2C%20%5B8.485936000943182%2C%2049.49201425823567%5D%2C%20%5B8.485902473330498%2C%2049.49196721774219%5D%2C%20%5B8.48583072423935%2C%2049.49198943131418%5D%2C%20%5B8.485804572701454%2C%2049.491953279809486%5D%2C%20%5B8.485776409506798%2C%2049.491962426578255%5D%2C%20%5B8.48579652607441%2C%2049.491991609114834%5D%2C%20%5B8.485785126686096%2C%2049.4919959647158%5D%2C%20%5B8.485841453075409%2C%2049.49207610770464%5D%2C%20%5B8.485875651240349%2C%2049.492066089838204%5D%2C%20%5B8.485952094197273%2C%2049.49217410846373%5D%2C%20%5B8.485682532191277%2C%2049.49225512227646%5D%2C%20%5B8.485606759786606%2C%2049.49214666827096%5D%2C%20%5B8.485640957951546%2C%2049.49213577930131%5D%2C%20%5B8.485585302114487%2C%2049.492056071969735%5D%2C%20%5B8.485571891069412%2C%2049.492062169802956%5D%2C%20%5B8.485552445054054%2C%2049.49203255174873%5D%2C%20%5B8.485516905784607%2C%2049.49204256962201%5D%2C%20%5B8.48557524383068%2C%2049.492121405857674%5D%2C%20%5B8.485524281859398%2C%2049.49213621486015%5D%2C%20%5B8.4854706376791%2C%2049.4920582497674%5D%2C%20%5B8.485432416200636%2C%2049.492068703194846%5D%2C%20%5B8.48545454442501%2C%2049.49210049902301%5D%2C%20%5B8.485419675707817%2C%2049.492109645764266%5D%2C%20%5B8.48543107509613%2C%2049.49212619700604%5D%2C%20%5B8.485327810049057%2C%2049.49215842835546%5D%2C%20%5B8.485294952988625%2C%2049.49210921020519%5D%2C%20%5B8.485261425375938%2C%2049.492120099180774%5D%2C%20%5B8.48528154194355%2C%2049.49214753938843%5D%2C%20%5B8.485213816165924%2C%2049.49216801064445%5D%2C%20%5B8.485182300209999%2C%2049.492125761447085%5D%2C%20%5B8.485146090388298%2C%2049.49213665041898%5D%2C%20%5B8.485180288553238%2C%2049.492181077399124%5D%2C%20%5B8.485124632716179%2C%2049.492198935291555%5D%2C%20%5B8.48522387444973%2C%2049.49234005596839%5D%2C%20%5B8.485272154211998%2C%2049.49232437591327%5D%2C%20%5B8.485317751765251%2C%2049.49238753166017%5D%2C%20%5B8.485091105103493%2C%2049.492455913997716%5D%2C%20%5B8.485049530863762%2C%2049.49239450056519%5D%2C%20%5B8.485093787312508%2C%2049.492380562754185%5D%2C%20%5B8.485002592206001%2C%2049.49225207337194%5D%2C%20%5B8.484755828976631%2C%2049.49232568258473%5D%2C%20%5B8.484800085425377%2C%2049.49238753166017%5D%2C%20%5B8.48455399274826%2C%2049.492460269557384%5D%2C%20%5B8.484536558389664%2C%2049.4924337006374%5D%2C%20%5B8.484517112374306%2C%2049.492439798423575%5D%2C%20%5B8.484554663300514%2C%2049.49249162957551%5D%2C%20%5B8.484459444880486%2C%2049.49251950513031%5D%2C%20%5B8.48430521786213%2C%2049.49229606468993%5D%5D%5D%2C%20%22type%22%3A%20%22Polygon%22%7D%2C%20%22properties%22%3A%20%7B%22highlight%22%3A%20%7B%7D%2C%20%22style%22%3A%20%7B%7D%7D%2C%20%22type%22%3A%20%22Feature%22%7D%5D%2C%20%22type%22%3A%20%22FeatureCollection%22%7D%2C%0A%20%20%20%20%20%20%20%20%20%20%20%20%7B%0A%20%20%20%20%20%20%20%20%20%20%20%20%7D%0A%20%20%20%20%20%20%20%20%29.addTo%28map_f24cdbaf9d564274b667f22a544c3ed0%20%29%3B%0A%20%20%20%20%20%20%20%20geo_json_5a684e321cec458f813e2d978314a173.setStyle%28function%28feature%29%20%7Breturn%20feature.properties.style%3B%7D%29%3B%0A%20%20%20%20%20%20%20%20%0A%3C/script%3E onload=\"this.contentDocument.open();this.contentDocument.write(    decodeURIComponent(this.getAttribute('data-html')));this.contentDocument.close();\" allowfullscreen webkitallowfullscreen mozallowfullscreen></iframe></div></div>",
                "text/plain": "<folium.folium.Map at 0x7f55ff0d5290>"
              }
            ],
            "_view_module": "@jupyter-widgets/output",
            "_model_module_version": "1.0.0",
            "_view_count": null,
            "_view_module_version": "1.0.0",
            "layout": "IPY_MODEL_b5e5332ad415400aad0dc6f01f3f44cb",
            "_model_module": "@jupyter-widgets/output"
          }
        },
        "c5ac08184d0a46ecbf7807108de924ff": {
          "model_module": "@jupyter-widgets/controls",
          "model_name": "DescriptionStyleModel",
          "state": {
            "_view_name": "StyleView",
            "_model_name": "DescriptionStyleModel",
            "description_width": "",
            "_view_module": "@jupyter-widgets/base",
            "_model_module_version": "1.5.0",
            "_view_count": null,
            "_view_module_version": "1.2.0",
            "_model_module": "@jupyter-widgets/controls"
          }
        },
        "897b9ef05f8642a0a163df4b55961954": {
          "model_module": "@jupyter-widgets/base",
          "model_name": "LayoutModel",
          "state": {
            "_view_name": "LayoutView",
            "grid_template_rows": null,
            "right": null,
            "justify_content": null,
            "_view_module": "@jupyter-widgets/base",
            "overflow": null,
            "_model_module_version": "1.2.0",
            "_view_count": null,
            "flex_flow": null,
            "width": null,
            "min_width": null,
            "border": null,
            "align_items": null,
            "bottom": null,
            "_model_module": "@jupyter-widgets/base",
            "top": null,
            "grid_column": null,
            "overflow_y": null,
            "overflow_x": null,
            "grid_auto_flow": null,
            "grid_area": null,
            "grid_template_columns": null,
            "flex": null,
            "_model_name": "LayoutModel",
            "justify_items": null,
            "grid_row": null,
            "max_height": null,
            "align_content": null,
            "visibility": null,
            "align_self": null,
            "height": null,
            "min_height": null,
            "padding": null,
            "grid_auto_rows": null,
            "grid_gap": null,
            "max_width": null,
            "order": null,
            "_view_module_version": "1.2.0",
            "grid_template_areas": null,
            "object_position": null,
            "object_fit": null,
            "grid_auto_columns": null,
            "margin": null,
            "display": null,
            "left": null
          }
        },
        "b5e5332ad415400aad0dc6f01f3f44cb": {
          "model_module": "@jupyter-widgets/base",
          "model_name": "LayoutModel",
          "state": {
            "_view_name": "LayoutView",
            "grid_template_rows": null,
            "right": null,
            "justify_content": null,
            "_view_module": "@jupyter-widgets/base",
            "overflow": null,
            "_model_module_version": "1.2.0",
            "_view_count": null,
            "flex_flow": null,
            "width": null,
            "min_width": null,
            "border": null,
            "align_items": null,
            "bottom": null,
            "_model_module": "@jupyter-widgets/base",
            "top": null,
            "grid_column": null,
            "overflow_y": null,
            "overflow_x": null,
            "grid_auto_flow": null,
            "grid_area": null,
            "grid_template_columns": null,
            "flex": null,
            "_model_name": "LayoutModel",
            "justify_items": null,
            "grid_row": null,
            "max_height": null,
            "align_content": null,
            "visibility": null,
            "align_self": null,
            "height": null,
            "min_height": null,
            "padding": null,
            "grid_auto_rows": null,
            "grid_gap": null,
            "max_width": null,
            "order": null,
            "_view_module_version": "1.2.0",
            "grid_template_areas": null,
            "object_position": null,
            "object_fit": null,
            "grid_auto_columns": null,
            "margin": null,
            "display": null,
            "left": null
          }
        },
        "273706b29aab46719de506232d2c4095": {
          "model_module": "@jupyter-widgets/controls",
          "model_name": "VBoxModel",
          "state": {
            "_view_name": "VBoxView",
            "_dom_classes": [
              "widget-interact"
            ],
            "_model_name": "VBoxModel",
            "_view_module": "@jupyter-widgets/controls",
            "_model_module_version": "1.5.0",
            "_view_count": null,
            "_view_module_version": "1.5.0",
            "box_style": "",
            "layout": "IPY_MODEL_5d8712f8eba0410e915e85b26f30f82c",
            "_model_module": "@jupyter-widgets/controls",
            "children": [
              "IPY_MODEL_4f1498b6fddd45288c6f9266e98e7ab3",
              "IPY_MODEL_208ac547f91042bca91d1233659f020b"
            ]
          }
        },
        "5d8712f8eba0410e915e85b26f30f82c": {
          "model_module": "@jupyter-widgets/base",
          "model_name": "LayoutModel",
          "state": {
            "_view_name": "LayoutView",
            "grid_template_rows": null,
            "right": null,
            "justify_content": null,
            "_view_module": "@jupyter-widgets/base",
            "overflow": null,
            "_model_module_version": "1.2.0",
            "_view_count": null,
            "flex_flow": null,
            "width": null,
            "min_width": null,
            "border": null,
            "align_items": null,
            "bottom": null,
            "_model_module": "@jupyter-widgets/base",
            "top": null,
            "grid_column": null,
            "overflow_y": null,
            "overflow_x": null,
            "grid_auto_flow": null,
            "grid_area": null,
            "grid_template_columns": null,
            "flex": null,
            "_model_name": "LayoutModel",
            "justify_items": null,
            "grid_row": null,
            "max_height": null,
            "align_content": null,
            "visibility": null,
            "align_self": null,
            "height": null,
            "min_height": null,
            "padding": null,
            "grid_auto_rows": null,
            "grid_gap": null,
            "max_width": null,
            "order": null,
            "_view_module_version": "1.2.0",
            "grid_template_areas": null,
            "object_position": null,
            "object_fit": null,
            "grid_auto_columns": null,
            "margin": null,
            "display": null,
            "left": null
          }
        },
        "4f1498b6fddd45288c6f9266e98e7ab3": {
          "model_module": "@jupyter-widgets/controls",
          "model_name": "SelectModel",
          "state": {
            "_options_labels": [
              "Aufnahme",
              "Eingang West",
              "Eingang Ost",
              "Eingang Fahrzeuge"
            ],
            "_view_name": "SelectView",
            "style": "IPY_MODEL_aad51c6be1c54a6ba85bfe0d3288e4da",
            "rows": 5,
            "_dom_classes": [],
            "description": "Wo befinden sie sich:",
            "_model_name": "SelectModel",
            "index": 1,
            "_view_module": "@jupyter-widgets/controls",
            "_model_module_version": "1.5.0",
            "_view_count": null,
            "disabled": false,
            "_view_module_version": "1.5.0",
            "description_tooltip": null,
            "_model_module": "@jupyter-widgets/controls",
            "layout": "IPY_MODEL_8d84b9a1a6b944e7aeedd4d896f0246b"
          }
        },
        "208ac547f91042bca91d1233659f020b": {
          "model_module": "@jupyter-widgets/output",
          "model_name": "OutputModel",
          "state": {
            "_view_name": "OutputView",
            "msg_id": "",
            "_dom_classes": [],
            "_model_name": "OutputModel",
            "outputs": [],
            "_view_module": "@jupyter-widgets/output",
            "_model_module_version": "1.0.0",
            "_view_count": null,
            "_view_module_version": "1.0.0",
            "layout": "IPY_MODEL_0a729e69725a455d908af40c6694ad7a",
            "_model_module": "@jupyter-widgets/output"
          }
        },
        "aad51c6be1c54a6ba85bfe0d3288e4da": {
          "model_module": "@jupyter-widgets/controls",
          "model_name": "DescriptionStyleModel",
          "state": {
            "_view_name": "StyleView",
            "_model_name": "DescriptionStyleModel",
            "description_width": "",
            "_view_module": "@jupyter-widgets/base",
            "_model_module_version": "1.5.0",
            "_view_count": null,
            "_view_module_version": "1.2.0",
            "_model_module": "@jupyter-widgets/controls"
          }
        },
        "8d84b9a1a6b944e7aeedd4d896f0246b": {
          "model_module": "@jupyter-widgets/base",
          "model_name": "LayoutModel",
          "state": {
            "_view_name": "LayoutView",
            "grid_template_rows": null,
            "right": null,
            "justify_content": null,
            "_view_module": "@jupyter-widgets/base",
            "overflow": null,
            "_model_module_version": "1.2.0",
            "_view_count": null,
            "flex_flow": null,
            "width": null,
            "min_width": null,
            "border": null,
            "align_items": null,
            "bottom": null,
            "_model_module": "@jupyter-widgets/base",
            "top": null,
            "grid_column": null,
            "overflow_y": null,
            "overflow_x": null,
            "grid_auto_flow": null,
            "grid_area": null,
            "grid_template_columns": null,
            "flex": null,
            "_model_name": "LayoutModel",
            "justify_items": null,
            "grid_row": null,
            "max_height": null,
            "align_content": null,
            "visibility": null,
            "align_self": null,
            "height": null,
            "min_height": null,
            "padding": null,
            "grid_auto_rows": null,
            "grid_gap": null,
            "max_width": null,
            "order": null,
            "_view_module_version": "1.2.0",
            "grid_template_areas": null,
            "object_position": null,
            "object_fit": null,
            "grid_auto_columns": null,
            "margin": null,
            "display": null,
            "left": null
          }
        },
        "0a729e69725a455d908af40c6694ad7a": {
          "model_module": "@jupyter-widgets/base",
          "model_name": "LayoutModel",
          "state": {
            "_view_name": "LayoutView",
            "grid_template_rows": null,
            "right": null,
            "justify_content": null,
            "_view_module": "@jupyter-widgets/base",
            "overflow": null,
            "_model_module_version": "1.2.0",
            "_view_count": null,
            "flex_flow": null,
            "width": null,
            "min_width": null,
            "border": null,
            "align_items": null,
            "bottom": null,
            "_model_module": "@jupyter-widgets/base",
            "top": null,
            "grid_column": null,
            "overflow_y": null,
            "overflow_x": null,
            "grid_auto_flow": null,
            "grid_area": null,
            "grid_template_columns": null,
            "flex": null,
            "_model_name": "LayoutModel",
            "justify_items": null,
            "grid_row": null,
            "max_height": null,
            "align_content": null,
            "visibility": null,
            "align_self": null,
            "height": null,
            "min_height": null,
            "padding": null,
            "grid_auto_rows": null,
            "grid_gap": null,
            "max_width": null,
            "order": null,
            "_view_module_version": "1.2.0",
            "grid_template_areas": null,
            "object_position": null,
            "object_fit": null,
            "grid_auto_columns": null,
            "margin": null,
            "display": null,
            "left": null
          }
        }
      }
    }
  },
  "cells": [
    {
      "cell_type": "markdown",
      "metadata": {
        "id": "view-in-github",
        "colab_type": "text"
      },
      "source": [
        "<a href=\"https://colab.research.google.com/github/Fuenfgeld/HospitalNavigator/blob/main/HospitalNavPrototype.ipynb\" target=\"_parent\"><img src=\"https://colab.research.google.com/assets/colab-badge.svg\" alt=\"Open In Colab\"/></a>"
      ]
    },
    {
      "cell_type": "code",
      "metadata": {
        "id": "dfKK5g2kUQns"
      },
      "source": [
        "import folium\n",
        "from folium import plugins\n",
        "import pandas as pd\n",
        "\n",
        "import ipywidgets\n",
        "import os\n",
        "import json"
      ],
      "execution_count": 1,
      "outputs": []
    },
    {
      "cell_type": "code",
      "metadata": {
        "colab": {
          "base_uri": "https://localhost:8080/"
        },
        "id": "ZbV0lVd_Uxra",
        "outputId": "f57cafb9-75d4-402e-ecd9-4ecf5ab09fea"
      },
      "source": [
        "!git clone https://github.com/Fuenfgeld/HospitalNavigator.git"
      ],
      "execution_count": 2,
      "outputs": [
        {
          "output_type": "stream",
          "text": [
            "Cloning into 'HospitalNavigator'...\n",
            "remote: Enumerating objects: 57, done.\u001b[K\n",
            "remote: Counting objects: 100% (57/57), done.\u001b[K\n",
            "remote: Compressing objects: 100% (53/53), done.\u001b[K\n",
            "remote: Total 57 (delta 4), reused 52 (delta 3), pack-reused 0\u001b[K\n",
            "Unpacking objects: 100% (57/57), done.\n"
          ],
          "name": "stdout"
        }
      ]
    },
    {
      "cell_type": "code",
      "metadata": {
        "colab": {
          "base_uri": "https://localhost:8080/",
          "height": 828
        },
        "id": "GrqeeJe5VBIl",
        "outputId": "20e345ef-7ed8-4741-ad04-d0786105b373"
      },
      "source": [
        "# the latitude and Longitude coordinates of the Soho District center\n",
        "UMMlocation = (49.49216583285166, 8.484229445457458)\n",
        "map_UMM = folium.Map(location = UMMlocation, width = \"75%\", zoom_start = 17) # max zoom: 18\n",
        "map_UMM"
      ],
      "execution_count": 3,
      "outputs": [
        {
          "output_type": "execute_result",
          "data": {
            "text/html": [
              "<div style=\"width:100%;\"><div style=\"position:relative;width:100%;height:0;padding-bottom:60%;\"><span style=\"color:#565656\">Make this Notebook Trusted to load map: File -> Trust Notebook</span><iframe src=\"about:blank\" style=\"position:absolute;width:100%;height:100%;left:0;top:0;border:none !important;\" data-html=%3C%21DOCTYPE%20html%3E%0A%3Chead%3E%20%20%20%20%0A%20%20%20%20%3Cmeta%20http-equiv%3D%22content-type%22%20content%3D%22text/html%3B%20charset%3DUTF-8%22%20/%3E%0A%20%20%20%20%3Cscript%3EL_PREFER_CANVAS%3Dfalse%3B%20L_NO_TOUCH%3Dfalse%3B%20L_DISABLE_3D%3Dfalse%3B%3C/script%3E%0A%20%20%20%20%3Cscript%20src%3D%22https%3A//cdn.jsdelivr.net/npm/leaflet%401.4.0/dist/leaflet.js%22%3E%3C/script%3E%0A%20%20%20%20%3Cscript%20src%3D%22https%3A//code.jquery.com/jquery-1.12.4.min.js%22%3E%3C/script%3E%0A%20%20%20%20%3Cscript%20src%3D%22https%3A//maxcdn.bootstrapcdn.com/bootstrap/3.2.0/js/bootstrap.min.js%22%3E%3C/script%3E%0A%20%20%20%20%3Cscript%20src%3D%22https%3A//cdnjs.cloudflare.com/ajax/libs/Leaflet.awesome-markers/2.0.2/leaflet.awesome-markers.js%22%3E%3C/script%3E%0A%20%20%20%20%3Clink%20rel%3D%22stylesheet%22%20href%3D%22https%3A//cdn.jsdelivr.net/npm/leaflet%401.4.0/dist/leaflet.css%22/%3E%0A%20%20%20%20%3Clink%20rel%3D%22stylesheet%22%20href%3D%22https%3A//maxcdn.bootstrapcdn.com/bootstrap/3.2.0/css/bootstrap.min.css%22/%3E%0A%20%20%20%20%3Clink%20rel%3D%22stylesheet%22%20href%3D%22https%3A//maxcdn.bootstrapcdn.com/bootstrap/3.2.0/css/bootstrap-theme.min.css%22/%3E%0A%20%20%20%20%3Clink%20rel%3D%22stylesheet%22%20href%3D%22https%3A//maxcdn.bootstrapcdn.com/font-awesome/4.6.3/css/font-awesome.min.css%22/%3E%0A%20%20%20%20%3Clink%20rel%3D%22stylesheet%22%20href%3D%22https%3A//cdnjs.cloudflare.com/ajax/libs/Leaflet.awesome-markers/2.0.2/leaflet.awesome-markers.css%22/%3E%0A%20%20%20%20%3Clink%20rel%3D%22stylesheet%22%20href%3D%22https%3A//rawcdn.githack.com/python-visualization/folium/master/folium/templates/leaflet.awesome.rotate.css%22/%3E%0A%20%20%20%20%3Cstyle%3Ehtml%2C%20body%20%7Bwidth%3A%20100%25%3Bheight%3A%20100%25%3Bmargin%3A%200%3Bpadding%3A%200%3B%7D%3C/style%3E%0A%20%20%20%20%3Cstyle%3E%23map%20%7Bposition%3Aabsolute%3Btop%3A0%3Bbottom%3A0%3Bright%3A0%3Bleft%3A0%3B%7D%3C/style%3E%0A%20%20%20%20%0A%20%20%20%20%3Cmeta%20name%3D%22viewport%22%20content%3D%22width%3Ddevice-width%2C%0A%20%20%20%20%20%20%20%20initial-scale%3D1.0%2C%20maximum-scale%3D1.0%2C%20user-scalable%3Dno%22%20/%3E%0A%20%20%20%20%3Cstyle%3E%23map_3aaa4467407d4c05a989a80f6ba86ef2%20%7B%0A%20%20%20%20%20%20%20%20position%3A%20relative%3B%0A%20%20%20%20%20%20%20%20width%3A%2075.0%25%3B%0A%20%20%20%20%20%20%20%20height%3A%20100.0%25%3B%0A%20%20%20%20%20%20%20%20left%3A%200.0%25%3B%0A%20%20%20%20%20%20%20%20top%3A%200.0%25%3B%0A%20%20%20%20%20%20%20%20%7D%0A%20%20%20%20%3C/style%3E%0A%3C/head%3E%0A%3Cbody%3E%20%20%20%20%0A%20%20%20%20%0A%20%20%20%20%3Cdiv%20class%3D%22folium-map%22%20id%3D%22map_3aaa4467407d4c05a989a80f6ba86ef2%22%20%3E%3C/div%3E%0A%3C/body%3E%0A%3Cscript%3E%20%20%20%20%0A%20%20%20%20%0A%20%20%20%20%0A%20%20%20%20%20%20%20%20var%20bounds%20%3D%20null%3B%0A%20%20%20%20%0A%0A%20%20%20%20var%20map_3aaa4467407d4c05a989a80f6ba86ef2%20%3D%20L.map%28%0A%20%20%20%20%20%20%20%20%27map_3aaa4467407d4c05a989a80f6ba86ef2%27%2C%20%7B%0A%20%20%20%20%20%20%20%20center%3A%20%5B49.49216583285166%2C%208.484229445457458%5D%2C%0A%20%20%20%20%20%20%20%20zoom%3A%2017%2C%0A%20%20%20%20%20%20%20%20maxBounds%3A%20bounds%2C%0A%20%20%20%20%20%20%20%20layers%3A%20%5B%5D%2C%0A%20%20%20%20%20%20%20%20worldCopyJump%3A%20false%2C%0A%20%20%20%20%20%20%20%20crs%3A%20L.CRS.EPSG3857%2C%0A%20%20%20%20%20%20%20%20zoomControl%3A%20true%2C%0A%20%20%20%20%20%20%20%20%7D%29%3B%0A%0A%0A%20%20%20%20%0A%20%20%20%20var%20tile_layer_1f63d4c63a01426f966838c7309be106%20%3D%20L.tileLayer%28%0A%20%20%20%20%20%20%20%20%27https%3A//%7Bs%7D.tile.openstreetmap.org/%7Bz%7D/%7Bx%7D/%7By%7D.png%27%2C%0A%20%20%20%20%20%20%20%20%7B%0A%20%20%20%20%20%20%20%20%22attribution%22%3A%20null%2C%0A%20%20%20%20%20%20%20%20%22detectRetina%22%3A%20false%2C%0A%20%20%20%20%20%20%20%20%22maxNativeZoom%22%3A%2018%2C%0A%20%20%20%20%20%20%20%20%22maxZoom%22%3A%2018%2C%0A%20%20%20%20%20%20%20%20%22minZoom%22%3A%200%2C%0A%20%20%20%20%20%20%20%20%22noWrap%22%3A%20false%2C%0A%20%20%20%20%20%20%20%20%22opacity%22%3A%201%2C%0A%20%20%20%20%20%20%20%20%22subdomains%22%3A%20%22abc%22%2C%0A%20%20%20%20%20%20%20%20%22tms%22%3A%20false%0A%7D%29.addTo%28map_3aaa4467407d4c05a989a80f6ba86ef2%29%3B%0A%3C/script%3E onload=\"this.contentDocument.open();this.contentDocument.write(    decodeURIComponent(this.getAttribute('data-html')));this.contentDocument.close();\" allowfullscreen webkitallowfullscreen mozallowfullscreen></iframe></div></div>"
            ],
            "text/plain": [
              "<folium.folium.Map at 0x7f55fc830ad0>"
            ]
          },
          "metadata": {
            "tags": []
          },
          "execution_count": 3
        }
      ]
    },
    {
      "cell_type": "code",
      "metadata": {
        "colab": {
          "base_uri": "https://localhost:8080/",
          "height": 845
        },
        "id": "fT-J95e4WPWj",
        "outputId": "1ced6b99-a039-4753-d0ec-060fb5d1f7f7"
      },
      "source": [
        "hauseOutline = 'HospitalNavigator/GeoResources/Haus17.geojson'\n",
        "display(folium.GeoJson(hauseOutline, name=\"Haus17\").add_to(map_UMM))\n",
        "display(map_UMM)"
      ],
      "execution_count": 4,
      "outputs": [
        {
          "output_type": "display_data",
          "data": {
            "text/plain": [
              "<folium.features.GeoJson at 0x7f55fc82fd90>"
            ]
          },
          "metadata": {
            "tags": []
          }
        },
        {
          "output_type": "display_data",
          "data": {
            "text/html": [
              "<div style=\"width:100%;\"><div style=\"position:relative;width:100%;height:0;padding-bottom:60%;\"><span style=\"color:#565656\">Make this Notebook Trusted to load map: File -> Trust Notebook</span><iframe src=\"about:blank\" style=\"position:absolute;width:100%;height:100%;left:0;top:0;border:none !important;\" data-html=%3C%21DOCTYPE%20html%3E%0A%3Chead%3E%20%20%20%20%0A%20%20%20%20%3Cmeta%20http-equiv%3D%22content-type%22%20content%3D%22text/html%3B%20charset%3DUTF-8%22%20/%3E%0A%20%20%20%20%3Cscript%3EL_PREFER_CANVAS%3Dfalse%3B%20L_NO_TOUCH%3Dfalse%3B%20L_DISABLE_3D%3Dfalse%3B%3C/script%3E%0A%20%20%20%20%3Cscript%20src%3D%22https%3A//cdn.jsdelivr.net/npm/leaflet%401.4.0/dist/leaflet.js%22%3E%3C/script%3E%0A%20%20%20%20%3Cscript%20src%3D%22https%3A//code.jquery.com/jquery-1.12.4.min.js%22%3E%3C/script%3E%0A%20%20%20%20%3Cscript%20src%3D%22https%3A//maxcdn.bootstrapcdn.com/bootstrap/3.2.0/js/bootstrap.min.js%22%3E%3C/script%3E%0A%20%20%20%20%3Cscript%20src%3D%22https%3A//cdnjs.cloudflare.com/ajax/libs/Leaflet.awesome-markers/2.0.2/leaflet.awesome-markers.js%22%3E%3C/script%3E%0A%20%20%20%20%3Clink%20rel%3D%22stylesheet%22%20href%3D%22https%3A//cdn.jsdelivr.net/npm/leaflet%401.4.0/dist/leaflet.css%22/%3E%0A%20%20%20%20%3Clink%20rel%3D%22stylesheet%22%20href%3D%22https%3A//maxcdn.bootstrapcdn.com/bootstrap/3.2.0/css/bootstrap.min.css%22/%3E%0A%20%20%20%20%3Clink%20rel%3D%22stylesheet%22%20href%3D%22https%3A//maxcdn.bootstrapcdn.com/bootstrap/3.2.0/css/bootstrap-theme.min.css%22/%3E%0A%20%20%20%20%3Clink%20rel%3D%22stylesheet%22%20href%3D%22https%3A//maxcdn.bootstrapcdn.com/font-awesome/4.6.3/css/font-awesome.min.css%22/%3E%0A%20%20%20%20%3Clink%20rel%3D%22stylesheet%22%20href%3D%22https%3A//cdnjs.cloudflare.com/ajax/libs/Leaflet.awesome-markers/2.0.2/leaflet.awesome-markers.css%22/%3E%0A%20%20%20%20%3Clink%20rel%3D%22stylesheet%22%20href%3D%22https%3A//rawcdn.githack.com/python-visualization/folium/master/folium/templates/leaflet.awesome.rotate.css%22/%3E%0A%20%20%20%20%3Cstyle%3Ehtml%2C%20body%20%7Bwidth%3A%20100%25%3Bheight%3A%20100%25%3Bmargin%3A%200%3Bpadding%3A%200%3B%7D%3C/style%3E%0A%20%20%20%20%3Cstyle%3E%23map%20%7Bposition%3Aabsolute%3Btop%3A0%3Bbottom%3A0%3Bright%3A0%3Bleft%3A0%3B%7D%3C/style%3E%0A%20%20%20%20%0A%20%20%20%20%3Cmeta%20name%3D%22viewport%22%20content%3D%22width%3Ddevice-width%2C%0A%20%20%20%20%20%20%20%20initial-scale%3D1.0%2C%20maximum-scale%3D1.0%2C%20user-scalable%3Dno%22%20/%3E%0A%20%20%20%20%3Cstyle%3E%23map_3aaa4467407d4c05a989a80f6ba86ef2%20%7B%0A%20%20%20%20%20%20%20%20position%3A%20relative%3B%0A%20%20%20%20%20%20%20%20width%3A%2075.0%25%3B%0A%20%20%20%20%20%20%20%20height%3A%20100.0%25%3B%0A%20%20%20%20%20%20%20%20left%3A%200.0%25%3B%0A%20%20%20%20%20%20%20%20top%3A%200.0%25%3B%0A%20%20%20%20%20%20%20%20%7D%0A%20%20%20%20%3C/style%3E%0A%3C/head%3E%0A%3Cbody%3E%20%20%20%20%0A%20%20%20%20%0A%20%20%20%20%3Cdiv%20class%3D%22folium-map%22%20id%3D%22map_3aaa4467407d4c05a989a80f6ba86ef2%22%20%3E%3C/div%3E%0A%3C/body%3E%0A%3Cscript%3E%20%20%20%20%0A%20%20%20%20%0A%20%20%20%20%0A%20%20%20%20%20%20%20%20var%20bounds%20%3D%20null%3B%0A%20%20%20%20%0A%0A%20%20%20%20var%20map_3aaa4467407d4c05a989a80f6ba86ef2%20%3D%20L.map%28%0A%20%20%20%20%20%20%20%20%27map_3aaa4467407d4c05a989a80f6ba86ef2%27%2C%20%7B%0A%20%20%20%20%20%20%20%20center%3A%20%5B49.49216583285166%2C%208.484229445457458%5D%2C%0A%20%20%20%20%20%20%20%20zoom%3A%2017%2C%0A%20%20%20%20%20%20%20%20maxBounds%3A%20bounds%2C%0A%20%20%20%20%20%20%20%20layers%3A%20%5B%5D%2C%0A%20%20%20%20%20%20%20%20worldCopyJump%3A%20false%2C%0A%20%20%20%20%20%20%20%20crs%3A%20L.CRS.EPSG3857%2C%0A%20%20%20%20%20%20%20%20zoomControl%3A%20true%2C%0A%20%20%20%20%20%20%20%20%7D%29%3B%0A%0A%0A%20%20%20%20%0A%20%20%20%20var%20tile_layer_1f63d4c63a01426f966838c7309be106%20%3D%20L.tileLayer%28%0A%20%20%20%20%20%20%20%20%27https%3A//%7Bs%7D.tile.openstreetmap.org/%7Bz%7D/%7Bx%7D/%7By%7D.png%27%2C%0A%20%20%20%20%20%20%20%20%7B%0A%20%20%20%20%20%20%20%20%22attribution%22%3A%20null%2C%0A%20%20%20%20%20%20%20%20%22detectRetina%22%3A%20false%2C%0A%20%20%20%20%20%20%20%20%22maxNativeZoom%22%3A%2018%2C%0A%20%20%20%20%20%20%20%20%22maxZoom%22%3A%2018%2C%0A%20%20%20%20%20%20%20%20%22minZoom%22%3A%200%2C%0A%20%20%20%20%20%20%20%20%22noWrap%22%3A%20false%2C%0A%20%20%20%20%20%20%20%20%22opacity%22%3A%201%2C%0A%20%20%20%20%20%20%20%20%22subdomains%22%3A%20%22abc%22%2C%0A%20%20%20%20%20%20%20%20%22tms%22%3A%20false%0A%7D%29.addTo%28map_3aaa4467407d4c05a989a80f6ba86ef2%29%3B%0A%20%20%20%20%0A%20%20%20%20%20%20%20%20var%20geo_json_013877068dbb4da8ad8a358996f38b17%20%3D%20L.geoJson%28%0A%20%20%20%20%20%20%20%20%20%20%20%20%7B%22features%22%3A%20%5B%7B%22geometry%22%3A%20%7B%22coordinates%22%3A%20%5B%5B%5B8.489617332816124%2C%2049.49233570039804%5D%2C%20%5B8.489630073308945%2C%2049.49223029547713%5D%2C%20%5B8.48966896533966%2C%2049.492232908825024%5D%2C%20%5B8.48967432975769%2C%2049.4922032908741%5D%2C%20%5B8.489864766597748%2C%2049.49221243759615%5D%2C%20%5B8.489875495433807%2C%2049.492150588299445%5D%2C%20%5B8.489996865391731%2C%2049.492154508327616%5D%2C%20%5B8.490000218153%2C%2049.49213839265426%5D%2C%20%5B8.490239605307579%2C%2049.49214971718203%5D%2C%20%5B8.490231558680533%2C%2049.49220938868898%5D%2C%20%5B8.490124940872192%2C%2049.4922032908741%5D%2C%20%5B8.490088731050491%2C%2049.49245199399369%5D%2C%20%5B8.490197360515594%2C%2049.49245852733355%5D%2C%20%5B8.490183278918266%2C%2049.49255652732702%5D%2C%20%5B8.489998206496239%2C%2049.49254781622442%5D%2C%20%5B8.48997674882412%2C%2049.49253300734649%5D%2C%20%5B8.489982783794403%2C%2049.492474642901506%5D%2C%20%5B8.489847332239151%2C%2049.492468980675554%5D%2C%20%5B8.489857390522957%2C%2049.492386660547005%5D%2C%20%5B8.489665612578392%2C%2049.49237620718742%5D%2C%20%5B8.48967231810093%2C%2049.49234005596839%5D%2C%20%5B8.489617332816124%2C%2049.49233570039804%5D%5D%5D%2C%20%22type%22%3A%20%22Polygon%22%7D%2C%20%22properties%22%3A%20%7B%22highlight%22%3A%20%7B%7D%2C%20%22style%22%3A%20%7B%7D%7D%2C%20%22type%22%3A%20%22Feature%22%7D%5D%2C%20%22type%22%3A%20%22FeatureCollection%22%7D%2C%0A%20%20%20%20%20%20%20%20%20%20%20%20%7B%0A%20%20%20%20%20%20%20%20%20%20%20%20%7D%0A%20%20%20%20%20%20%20%20%29.addTo%28map_3aaa4467407d4c05a989a80f6ba86ef2%20%29%3B%0A%20%20%20%20%20%20%20%20geo_json_013877068dbb4da8ad8a358996f38b17.setStyle%28function%28feature%29%20%7Breturn%20feature.properties.style%3B%7D%29%3B%0A%20%20%20%20%20%20%20%20%0A%3C/script%3E onload=\"this.contentDocument.open();this.contentDocument.write(    decodeURIComponent(this.getAttribute('data-html')));this.contentDocument.close();\" allowfullscreen webkitallowfullscreen mozallowfullscreen></iframe></div></div>"
            ],
            "text/plain": [
              "<folium.folium.Map at 0x7f55fc830ad0>"
            ]
          },
          "metadata": {
            "tags": []
          }
        }
      ]
    },
    {
      "cell_type": "code",
      "metadata": {
        "colab": {
          "base_uri": "https://localhost:8080/",
          "height": 828
        },
        "id": "t2Aj2HDHX8Ac",
        "outputId": "ad2e38c0-53cc-4dbb-f635-d695ad65aa8c"
      },
      "source": [
        "folium.LayerControl().add_to(map_UMM)\n",
        "map_UMM"
      ],
      "execution_count": 5,
      "outputs": [
        {
          "output_type": "execute_result",
          "data": {
            "text/html": [
              "<div style=\"width:100%;\"><div style=\"position:relative;width:100%;height:0;padding-bottom:60%;\"><span style=\"color:#565656\">Make this Notebook Trusted to load map: File -> Trust Notebook</span><iframe src=\"about:blank\" style=\"position:absolute;width:100%;height:100%;left:0;top:0;border:none !important;\" data-html=%3C%21DOCTYPE%20html%3E%0A%3Chead%3E%20%20%20%20%0A%20%20%20%20%3Cmeta%20http-equiv%3D%22content-type%22%20content%3D%22text/html%3B%20charset%3DUTF-8%22%20/%3E%0A%20%20%20%20%3Cscript%3EL_PREFER_CANVAS%3Dfalse%3B%20L_NO_TOUCH%3Dfalse%3B%20L_DISABLE_3D%3Dfalse%3B%3C/script%3E%0A%20%20%20%20%3Cscript%20src%3D%22https%3A//cdn.jsdelivr.net/npm/leaflet%401.4.0/dist/leaflet.js%22%3E%3C/script%3E%0A%20%20%20%20%3Cscript%20src%3D%22https%3A//code.jquery.com/jquery-1.12.4.min.js%22%3E%3C/script%3E%0A%20%20%20%20%3Cscript%20src%3D%22https%3A//maxcdn.bootstrapcdn.com/bootstrap/3.2.0/js/bootstrap.min.js%22%3E%3C/script%3E%0A%20%20%20%20%3Cscript%20src%3D%22https%3A//cdnjs.cloudflare.com/ajax/libs/Leaflet.awesome-markers/2.0.2/leaflet.awesome-markers.js%22%3E%3C/script%3E%0A%20%20%20%20%3Clink%20rel%3D%22stylesheet%22%20href%3D%22https%3A//cdn.jsdelivr.net/npm/leaflet%401.4.0/dist/leaflet.css%22/%3E%0A%20%20%20%20%3Clink%20rel%3D%22stylesheet%22%20href%3D%22https%3A//maxcdn.bootstrapcdn.com/bootstrap/3.2.0/css/bootstrap.min.css%22/%3E%0A%20%20%20%20%3Clink%20rel%3D%22stylesheet%22%20href%3D%22https%3A//maxcdn.bootstrapcdn.com/bootstrap/3.2.0/css/bootstrap-theme.min.css%22/%3E%0A%20%20%20%20%3Clink%20rel%3D%22stylesheet%22%20href%3D%22https%3A//maxcdn.bootstrapcdn.com/font-awesome/4.6.3/css/font-awesome.min.css%22/%3E%0A%20%20%20%20%3Clink%20rel%3D%22stylesheet%22%20href%3D%22https%3A//cdnjs.cloudflare.com/ajax/libs/Leaflet.awesome-markers/2.0.2/leaflet.awesome-markers.css%22/%3E%0A%20%20%20%20%3Clink%20rel%3D%22stylesheet%22%20href%3D%22https%3A//rawcdn.githack.com/python-visualization/folium/master/folium/templates/leaflet.awesome.rotate.css%22/%3E%0A%20%20%20%20%3Cstyle%3Ehtml%2C%20body%20%7Bwidth%3A%20100%25%3Bheight%3A%20100%25%3Bmargin%3A%200%3Bpadding%3A%200%3B%7D%3C/style%3E%0A%20%20%20%20%3Cstyle%3E%23map%20%7Bposition%3Aabsolute%3Btop%3A0%3Bbottom%3A0%3Bright%3A0%3Bleft%3A0%3B%7D%3C/style%3E%0A%20%20%20%20%0A%20%20%20%20%3Cmeta%20name%3D%22viewport%22%20content%3D%22width%3Ddevice-width%2C%0A%20%20%20%20%20%20%20%20initial-scale%3D1.0%2C%20maximum-scale%3D1.0%2C%20user-scalable%3Dno%22%20/%3E%0A%20%20%20%20%3Cstyle%3E%23map_3aaa4467407d4c05a989a80f6ba86ef2%20%7B%0A%20%20%20%20%20%20%20%20position%3A%20relative%3B%0A%20%20%20%20%20%20%20%20width%3A%2075.0%25%3B%0A%20%20%20%20%20%20%20%20height%3A%20100.0%25%3B%0A%20%20%20%20%20%20%20%20left%3A%200.0%25%3B%0A%20%20%20%20%20%20%20%20top%3A%200.0%25%3B%0A%20%20%20%20%20%20%20%20%7D%0A%20%20%20%20%3C/style%3E%0A%3C/head%3E%0A%3Cbody%3E%20%20%20%20%0A%20%20%20%20%0A%20%20%20%20%3Cdiv%20class%3D%22folium-map%22%20id%3D%22map_3aaa4467407d4c05a989a80f6ba86ef2%22%20%3E%3C/div%3E%0A%3C/body%3E%0A%3Cscript%3E%20%20%20%20%0A%20%20%20%20%0A%20%20%20%20%0A%20%20%20%20%20%20%20%20var%20bounds%20%3D%20null%3B%0A%20%20%20%20%0A%0A%20%20%20%20var%20map_3aaa4467407d4c05a989a80f6ba86ef2%20%3D%20L.map%28%0A%20%20%20%20%20%20%20%20%27map_3aaa4467407d4c05a989a80f6ba86ef2%27%2C%20%7B%0A%20%20%20%20%20%20%20%20center%3A%20%5B49.49216583285166%2C%208.484229445457458%5D%2C%0A%20%20%20%20%20%20%20%20zoom%3A%2017%2C%0A%20%20%20%20%20%20%20%20maxBounds%3A%20bounds%2C%0A%20%20%20%20%20%20%20%20layers%3A%20%5B%5D%2C%0A%20%20%20%20%20%20%20%20worldCopyJump%3A%20false%2C%0A%20%20%20%20%20%20%20%20crs%3A%20L.CRS.EPSG3857%2C%0A%20%20%20%20%20%20%20%20zoomControl%3A%20true%2C%0A%20%20%20%20%20%20%20%20%7D%29%3B%0A%0A%0A%20%20%20%20%0A%20%20%20%20var%20tile_layer_1f63d4c63a01426f966838c7309be106%20%3D%20L.tileLayer%28%0A%20%20%20%20%20%20%20%20%27https%3A//%7Bs%7D.tile.openstreetmap.org/%7Bz%7D/%7Bx%7D/%7By%7D.png%27%2C%0A%20%20%20%20%20%20%20%20%7B%0A%20%20%20%20%20%20%20%20%22attribution%22%3A%20null%2C%0A%20%20%20%20%20%20%20%20%22detectRetina%22%3A%20false%2C%0A%20%20%20%20%20%20%20%20%22maxNativeZoom%22%3A%2018%2C%0A%20%20%20%20%20%20%20%20%22maxZoom%22%3A%2018%2C%0A%20%20%20%20%20%20%20%20%22minZoom%22%3A%200%2C%0A%20%20%20%20%20%20%20%20%22noWrap%22%3A%20false%2C%0A%20%20%20%20%20%20%20%20%22opacity%22%3A%201%2C%0A%20%20%20%20%20%20%20%20%22subdomains%22%3A%20%22abc%22%2C%0A%20%20%20%20%20%20%20%20%22tms%22%3A%20false%0A%7D%29.addTo%28map_3aaa4467407d4c05a989a80f6ba86ef2%29%3B%0A%20%20%20%20%0A%20%20%20%20%20%20%20%20var%20geo_json_013877068dbb4da8ad8a358996f38b17%20%3D%20L.geoJson%28%0A%20%20%20%20%20%20%20%20%20%20%20%20%7B%22features%22%3A%20%5B%7B%22geometry%22%3A%20%7B%22coordinates%22%3A%20%5B%5B%5B8.489617332816124%2C%2049.49233570039804%5D%2C%20%5B8.489630073308945%2C%2049.49223029547713%5D%2C%20%5B8.48966896533966%2C%2049.492232908825024%5D%2C%20%5B8.48967432975769%2C%2049.4922032908741%5D%2C%20%5B8.489864766597748%2C%2049.49221243759615%5D%2C%20%5B8.489875495433807%2C%2049.492150588299445%5D%2C%20%5B8.489996865391731%2C%2049.492154508327616%5D%2C%20%5B8.490000218153%2C%2049.49213839265426%5D%2C%20%5B8.490239605307579%2C%2049.49214971718203%5D%2C%20%5B8.490231558680533%2C%2049.49220938868898%5D%2C%20%5B8.490124940872192%2C%2049.4922032908741%5D%2C%20%5B8.490088731050491%2C%2049.49245199399369%5D%2C%20%5B8.490197360515594%2C%2049.49245852733355%5D%2C%20%5B8.490183278918266%2C%2049.49255652732702%5D%2C%20%5B8.489998206496239%2C%2049.49254781622442%5D%2C%20%5B8.48997674882412%2C%2049.49253300734649%5D%2C%20%5B8.489982783794403%2C%2049.492474642901506%5D%2C%20%5B8.489847332239151%2C%2049.492468980675554%5D%2C%20%5B8.489857390522957%2C%2049.492386660547005%5D%2C%20%5B8.489665612578392%2C%2049.49237620718742%5D%2C%20%5B8.48967231810093%2C%2049.49234005596839%5D%2C%20%5B8.489617332816124%2C%2049.49233570039804%5D%5D%5D%2C%20%22type%22%3A%20%22Polygon%22%7D%2C%20%22properties%22%3A%20%7B%22highlight%22%3A%20%7B%7D%2C%20%22style%22%3A%20%7B%7D%7D%2C%20%22type%22%3A%20%22Feature%22%7D%5D%2C%20%22type%22%3A%20%22FeatureCollection%22%7D%2C%0A%20%20%20%20%20%20%20%20%20%20%20%20%7B%0A%20%20%20%20%20%20%20%20%20%20%20%20%7D%0A%20%20%20%20%20%20%20%20%29.addTo%28map_3aaa4467407d4c05a989a80f6ba86ef2%20%29%3B%0A%20%20%20%20%20%20%20%20geo_json_013877068dbb4da8ad8a358996f38b17.setStyle%28function%28feature%29%20%7Breturn%20feature.properties.style%3B%7D%29%3B%0A%20%20%20%20%20%20%20%20%0A%20%20%20%20%0A%20%20%20%20%20%20%20%20%20%20%20%20var%20layer_control_32631c1d1b83410b84626fe0294216e8%20%3D%20%7B%0A%20%20%20%20%20%20%20%20%20%20%20%20%20%20%20%20base_layers%20%3A%20%7B%20%22openstreetmap%22%20%3A%20tile_layer_1f63d4c63a01426f966838c7309be106%2C%20%7D%2C%0A%20%20%20%20%20%20%20%20%20%20%20%20%20%20%20%20overlays%20%3A%20%7B%20%22Haus17%22%20%3A%20geo_json_013877068dbb4da8ad8a358996f38b17%2C%20%7D%0A%20%20%20%20%20%20%20%20%20%20%20%20%20%20%20%20%7D%3B%0A%20%20%20%20%20%20%20%20%20%20%20%20L.control.layers%28%0A%20%20%20%20%20%20%20%20%20%20%20%20%20%20%20%20layer_control_32631c1d1b83410b84626fe0294216e8.base_layers%2C%0A%20%20%20%20%20%20%20%20%20%20%20%20%20%20%20%20layer_control_32631c1d1b83410b84626fe0294216e8.overlays%2C%0A%20%20%20%20%20%20%20%20%20%20%20%20%20%20%20%20%7Bposition%3A%20%27topright%27%2C%0A%20%20%20%20%20%20%20%20%20%20%20%20%20%20%20%20%20collapsed%3A%20true%2C%0A%20%20%20%20%20%20%20%20%20%20%20%20%20%20%20%20%20autoZIndex%3A%20true%0A%20%20%20%20%20%20%20%20%20%20%20%20%20%20%20%20%7D%29.addTo%28map_3aaa4467407d4c05a989a80f6ba86ef2%29%3B%0A%20%20%20%20%20%20%20%20%20%20%20%20%0A%20%20%20%20%20%20%20%20%0A%3C/script%3E onload=\"this.contentDocument.open();this.contentDocument.write(    decodeURIComponent(this.getAttribute('data-html')));this.contentDocument.close();\" allowfullscreen webkitallowfullscreen mozallowfullscreen></iframe></div></div>"
            ],
            "text/plain": [
              "<folium.folium.Map at 0x7f55fc830ad0>"
            ]
          },
          "metadata": {
            "tags": []
          },
          "execution_count": 5
        }
      ]
    },
    {
      "cell_type": "code",
      "metadata": {
        "colab": {
          "base_uri": "https://localhost:8080/",
          "height": 828
        },
        "id": "TtAbktGTZ5bx",
        "outputId": "944566e1-6255-43be-9c8d-2f11fe3fb5c1"
      },
      "source": [
        "path = 'HospitalNavigator/GeoResources/path/w17.geojson'\n",
        "folium.plugins.AntPath([[49.49213534374249, 8.484166413545609],\n",
        " [49.49232786037041, 8.484299182891846],\n",
        " [49.49233047371309, 8.484493643045425],\n",
        " [49.492218099851804, 8.484871834516525],\n",
        " [49.49142363542676, 8.487555384635925],\n",
        " [49.49185222967887, 8.487834334373474],\n",
        " [49.491712849846046, 8.488343954086304],\n",
        " [49.492029938390125, 8.488638997077942],\n",
        " [49.49251776290861, 8.488982319831848],\n",
        " [49.49222506878094, 8.489341735839844],\n",
        " [49.49217977072383, 8.489529490470886],\n",
        " [49.49220764645621, 8.489856719970703]]).add_to(map_UMM)\n",
        "map_UMM"
      ],
      "execution_count": 6,
      "outputs": [
        {
          "output_type": "execute_result",
          "data": {
            "text/html": [
              "<div style=\"width:100%;\"><div style=\"position:relative;width:100%;height:0;padding-bottom:60%;\"><span style=\"color:#565656\">Make this Notebook Trusted to load map: File -> Trust Notebook</span><iframe src=\"about:blank\" style=\"position:absolute;width:100%;height:100%;left:0;top:0;border:none !important;\" data-html=%3C%21DOCTYPE%20html%3E%0A%3Chead%3E%20%20%20%20%0A%20%20%20%20%3Cmeta%20http-equiv%3D%22content-type%22%20content%3D%22text/html%3B%20charset%3DUTF-8%22%20/%3E%0A%20%20%20%20%3Cscript%3EL_PREFER_CANVAS%3Dfalse%3B%20L_NO_TOUCH%3Dfalse%3B%20L_DISABLE_3D%3Dfalse%3B%3C/script%3E%0A%20%20%20%20%3Cscript%20src%3D%22https%3A//cdn.jsdelivr.net/npm/leaflet%401.4.0/dist/leaflet.js%22%3E%3C/script%3E%0A%20%20%20%20%3Cscript%20src%3D%22https%3A//code.jquery.com/jquery-1.12.4.min.js%22%3E%3C/script%3E%0A%20%20%20%20%3Cscript%20src%3D%22https%3A//maxcdn.bootstrapcdn.com/bootstrap/3.2.0/js/bootstrap.min.js%22%3E%3C/script%3E%0A%20%20%20%20%3Cscript%20src%3D%22https%3A//cdnjs.cloudflare.com/ajax/libs/Leaflet.awesome-markers/2.0.2/leaflet.awesome-markers.js%22%3E%3C/script%3E%0A%20%20%20%20%3Clink%20rel%3D%22stylesheet%22%20href%3D%22https%3A//cdn.jsdelivr.net/npm/leaflet%401.4.0/dist/leaflet.css%22/%3E%0A%20%20%20%20%3Clink%20rel%3D%22stylesheet%22%20href%3D%22https%3A//maxcdn.bootstrapcdn.com/bootstrap/3.2.0/css/bootstrap.min.css%22/%3E%0A%20%20%20%20%3Clink%20rel%3D%22stylesheet%22%20href%3D%22https%3A//maxcdn.bootstrapcdn.com/bootstrap/3.2.0/css/bootstrap-theme.min.css%22/%3E%0A%20%20%20%20%3Clink%20rel%3D%22stylesheet%22%20href%3D%22https%3A//maxcdn.bootstrapcdn.com/font-awesome/4.6.3/css/font-awesome.min.css%22/%3E%0A%20%20%20%20%3Clink%20rel%3D%22stylesheet%22%20href%3D%22https%3A//cdnjs.cloudflare.com/ajax/libs/Leaflet.awesome-markers/2.0.2/leaflet.awesome-markers.css%22/%3E%0A%20%20%20%20%3Clink%20rel%3D%22stylesheet%22%20href%3D%22https%3A//rawcdn.githack.com/python-visualization/folium/master/folium/templates/leaflet.awesome.rotate.css%22/%3E%0A%20%20%20%20%3Cstyle%3Ehtml%2C%20body%20%7Bwidth%3A%20100%25%3Bheight%3A%20100%25%3Bmargin%3A%200%3Bpadding%3A%200%3B%7D%3C/style%3E%0A%20%20%20%20%3Cstyle%3E%23map%20%7Bposition%3Aabsolute%3Btop%3A0%3Bbottom%3A0%3Bright%3A0%3Bleft%3A0%3B%7D%3C/style%3E%0A%20%20%20%20%0A%20%20%20%20%3Cmeta%20name%3D%22viewport%22%20content%3D%22width%3Ddevice-width%2C%0A%20%20%20%20%20%20%20%20initial-scale%3D1.0%2C%20maximum-scale%3D1.0%2C%20user-scalable%3Dno%22%20/%3E%0A%20%20%20%20%3Cstyle%3E%23map_3aaa4467407d4c05a989a80f6ba86ef2%20%7B%0A%20%20%20%20%20%20%20%20position%3A%20relative%3B%0A%20%20%20%20%20%20%20%20width%3A%2075.0%25%3B%0A%20%20%20%20%20%20%20%20height%3A%20100.0%25%3B%0A%20%20%20%20%20%20%20%20left%3A%200.0%25%3B%0A%20%20%20%20%20%20%20%20top%3A%200.0%25%3B%0A%20%20%20%20%20%20%20%20%7D%0A%20%20%20%20%3C/style%3E%0A%20%20%20%20%3Cscript%20src%3D%22https%3A//cdn.jsdelivr.net/npm/leaflet-ant-path%401.1.2/dist/leaflet-ant-path.min.js%22%3E%3C/script%3E%0A%3C/head%3E%0A%3Cbody%3E%20%20%20%20%0A%20%20%20%20%0A%20%20%20%20%3Cdiv%20class%3D%22folium-map%22%20id%3D%22map_3aaa4467407d4c05a989a80f6ba86ef2%22%20%3E%3C/div%3E%0A%3C/body%3E%0A%3Cscript%3E%20%20%20%20%0A%20%20%20%20%0A%20%20%20%20%0A%20%20%20%20%20%20%20%20var%20bounds%20%3D%20null%3B%0A%20%20%20%20%0A%0A%20%20%20%20var%20map_3aaa4467407d4c05a989a80f6ba86ef2%20%3D%20L.map%28%0A%20%20%20%20%20%20%20%20%27map_3aaa4467407d4c05a989a80f6ba86ef2%27%2C%20%7B%0A%20%20%20%20%20%20%20%20center%3A%20%5B49.49216583285166%2C%208.484229445457458%5D%2C%0A%20%20%20%20%20%20%20%20zoom%3A%2017%2C%0A%20%20%20%20%20%20%20%20maxBounds%3A%20bounds%2C%0A%20%20%20%20%20%20%20%20layers%3A%20%5B%5D%2C%0A%20%20%20%20%20%20%20%20worldCopyJump%3A%20false%2C%0A%20%20%20%20%20%20%20%20crs%3A%20L.CRS.EPSG3857%2C%0A%20%20%20%20%20%20%20%20zoomControl%3A%20true%2C%0A%20%20%20%20%20%20%20%20%7D%29%3B%0A%0A%0A%20%20%20%20%0A%20%20%20%20var%20tile_layer_1f63d4c63a01426f966838c7309be106%20%3D%20L.tileLayer%28%0A%20%20%20%20%20%20%20%20%27https%3A//%7Bs%7D.tile.openstreetmap.org/%7Bz%7D/%7Bx%7D/%7By%7D.png%27%2C%0A%20%20%20%20%20%20%20%20%7B%0A%20%20%20%20%20%20%20%20%22attribution%22%3A%20null%2C%0A%20%20%20%20%20%20%20%20%22detectRetina%22%3A%20false%2C%0A%20%20%20%20%20%20%20%20%22maxNativeZoom%22%3A%2018%2C%0A%20%20%20%20%20%20%20%20%22maxZoom%22%3A%2018%2C%0A%20%20%20%20%20%20%20%20%22minZoom%22%3A%200%2C%0A%20%20%20%20%20%20%20%20%22noWrap%22%3A%20false%2C%0A%20%20%20%20%20%20%20%20%22opacity%22%3A%201%2C%0A%20%20%20%20%20%20%20%20%22subdomains%22%3A%20%22abc%22%2C%0A%20%20%20%20%20%20%20%20%22tms%22%3A%20false%0A%7D%29.addTo%28map_3aaa4467407d4c05a989a80f6ba86ef2%29%3B%0A%20%20%20%20%0A%20%20%20%20%20%20%20%20var%20geo_json_013877068dbb4da8ad8a358996f38b17%20%3D%20L.geoJson%28%0A%20%20%20%20%20%20%20%20%20%20%20%20%7B%22features%22%3A%20%5B%7B%22geometry%22%3A%20%7B%22coordinates%22%3A%20%5B%5B%5B8.489617332816124%2C%2049.49233570039804%5D%2C%20%5B8.489630073308945%2C%2049.49223029547713%5D%2C%20%5B8.48966896533966%2C%2049.492232908825024%5D%2C%20%5B8.48967432975769%2C%2049.4922032908741%5D%2C%20%5B8.489864766597748%2C%2049.49221243759615%5D%2C%20%5B8.489875495433807%2C%2049.492150588299445%5D%2C%20%5B8.489996865391731%2C%2049.492154508327616%5D%2C%20%5B8.490000218153%2C%2049.49213839265426%5D%2C%20%5B8.490239605307579%2C%2049.49214971718203%5D%2C%20%5B8.490231558680533%2C%2049.49220938868898%5D%2C%20%5B8.490124940872192%2C%2049.4922032908741%5D%2C%20%5B8.490088731050491%2C%2049.49245199399369%5D%2C%20%5B8.490197360515594%2C%2049.49245852733355%5D%2C%20%5B8.490183278918266%2C%2049.49255652732702%5D%2C%20%5B8.489998206496239%2C%2049.49254781622442%5D%2C%20%5B8.48997674882412%2C%2049.49253300734649%5D%2C%20%5B8.489982783794403%2C%2049.492474642901506%5D%2C%20%5B8.489847332239151%2C%2049.492468980675554%5D%2C%20%5B8.489857390522957%2C%2049.492386660547005%5D%2C%20%5B8.489665612578392%2C%2049.49237620718742%5D%2C%20%5B8.48967231810093%2C%2049.49234005596839%5D%2C%20%5B8.489617332816124%2C%2049.49233570039804%5D%5D%5D%2C%20%22type%22%3A%20%22Polygon%22%7D%2C%20%22properties%22%3A%20%7B%22highlight%22%3A%20%7B%7D%2C%20%22style%22%3A%20%7B%7D%7D%2C%20%22type%22%3A%20%22Feature%22%7D%5D%2C%20%22type%22%3A%20%22FeatureCollection%22%7D%2C%0A%20%20%20%20%20%20%20%20%20%20%20%20%7B%0A%20%20%20%20%20%20%20%20%20%20%20%20%7D%0A%20%20%20%20%20%20%20%20%29.addTo%28map_3aaa4467407d4c05a989a80f6ba86ef2%20%29%3B%0A%20%20%20%20%20%20%20%20geo_json_013877068dbb4da8ad8a358996f38b17.setStyle%28function%28feature%29%20%7Breturn%20feature.properties.style%3B%7D%29%3B%0A%20%20%20%20%20%20%20%20%0A%20%20%20%20%0A%20%20%20%20%20%20%20%20%20%20%20%20var%20layer_control_32631c1d1b83410b84626fe0294216e8%20%3D%20%7B%0A%20%20%20%20%20%20%20%20%20%20%20%20%20%20%20%20base_layers%20%3A%20%7B%20%22openstreetmap%22%20%3A%20tile_layer_1f63d4c63a01426f966838c7309be106%2C%20%7D%2C%0A%20%20%20%20%20%20%20%20%20%20%20%20%20%20%20%20overlays%20%3A%20%7B%20%22Haus17%22%20%3A%20geo_json_013877068dbb4da8ad8a358996f38b17%2C%20%7D%0A%20%20%20%20%20%20%20%20%20%20%20%20%20%20%20%20%7D%3B%0A%20%20%20%20%20%20%20%20%20%20%20%20L.control.layers%28%0A%20%20%20%20%20%20%20%20%20%20%20%20%20%20%20%20layer_control_32631c1d1b83410b84626fe0294216e8.base_layers%2C%0A%20%20%20%20%20%20%20%20%20%20%20%20%20%20%20%20layer_control_32631c1d1b83410b84626fe0294216e8.overlays%2C%0A%20%20%20%20%20%20%20%20%20%20%20%20%20%20%20%20%7Bposition%3A%20%27topright%27%2C%0A%20%20%20%20%20%20%20%20%20%20%20%20%20%20%20%20%20collapsed%3A%20true%2C%0A%20%20%20%20%20%20%20%20%20%20%20%20%20%20%20%20%20autoZIndex%3A%20true%0A%20%20%20%20%20%20%20%20%20%20%20%20%20%20%20%20%7D%29.addTo%28map_3aaa4467407d4c05a989a80f6ba86ef2%29%3B%0A%20%20%20%20%20%20%20%20%20%20%20%20%0A%20%20%20%20%20%20%20%20%0A%20%20%20%20%0A%20%20%20%20%20%20%20%20%20%20%20%20%20%20%20%20ant_path_b6774df3181d4b2380cfc95c39d3000d%20%3D%20L.polyline.antPath%28%0A%20%20%20%20%20%20%20%20%20%20%20%20%20%20%20%20%20%20%5B%5B49.49213534374249%2C%208.484166413545609%5D%2C%20%5B49.49232786037041%2C%208.484299182891846%5D%2C%20%5B49.49233047371309%2C%208.484493643045425%5D%2C%20%5B49.492218099851804%2C%208.484871834516525%5D%2C%20%5B49.49142363542676%2C%208.487555384635925%5D%2C%20%5B49.49185222967887%2C%208.487834334373474%5D%2C%20%5B49.491712849846046%2C%208.488343954086304%5D%2C%20%5B49.492029938390125%2C%208.488638997077942%5D%2C%20%5B49.49251776290861%2C%208.488982319831848%5D%2C%20%5B49.49222506878094%2C%208.489341735839844%5D%2C%20%5B49.49217977072383%2C%208.489529490470886%5D%2C%20%5B49.49220764645621%2C%208.489856719970703%5D%5D%2C%0A%20%20%20%20%20%20%20%20%20%20%20%20%20%20%20%20%20%20%7B%0A%20%20%22bubblingMouseEvents%22%3A%20true%2C%0A%20%20%22color%22%3A%20%22%230000FF%22%2C%0A%20%20%22dashArray%22%3A%20%5B%0A%20%20%20%2010%2C%0A%20%20%20%2020%0A%20%20%5D%2C%0A%20%20%22dashOffset%22%3A%20null%2C%0A%20%20%22delay%22%3A%20400%2C%0A%20%20%22fill%22%3A%20false%2C%0A%20%20%22fillColor%22%3A%20%22%233388ff%22%2C%0A%20%20%22fillOpacity%22%3A%200.2%2C%0A%20%20%22fillRule%22%3A%20%22evenodd%22%2C%0A%20%20%22hardwareAcceleration%22%3A%20false%2C%0A%20%20%22lineCap%22%3A%20%22round%22%2C%0A%20%20%22lineJoin%22%3A%20%22round%22%2C%0A%20%20%22noClip%22%3A%20false%2C%0A%20%20%22opacity%22%3A%200.5%2C%0A%20%20%22paused%22%3A%20false%2C%0A%20%20%22pulseColor%22%3A%20%22%23FFFFFF%22%2C%0A%20%20%22reverse%22%3A%20false%2C%0A%20%20%22smoothFactor%22%3A%201.0%2C%0A%20%20%22stroke%22%3A%20true%2C%0A%20%20%22weight%22%3A%205%0A%7D%0A%20%20%20%20%20%20%20%20%20%20%20%20%20%20%20%20%29%0A%20%20%20%20%20%20%20%20%20%20%20%20%20%20%20%20.addTo%28map_3aaa4467407d4c05a989a80f6ba86ef2%29%3B%0A%20%20%20%20%20%20%20%20%20%20%20%20%0A%3C/script%3E onload=\"this.contentDocument.open();this.contentDocument.write(    decodeURIComponent(this.getAttribute('data-html')));this.contentDocument.close();\" allowfullscreen webkitallowfullscreen mozallowfullscreen></iframe></div></div>"
            ],
            "text/plain": [
              "<folium.folium.Map at 0x7f55fc830ad0>"
            ]
          },
          "metadata": {
            "tags": []
          },
          "execution_count": 6
        }
      ]
    },
    {
      "cell_type": "code",
      "metadata": {
        "id": "rfrg47U_Qj25"
      },
      "source": [
        "testGeoJson = 'HospitalNavigator/GeoResources/path/w17.geojson'\n",
        "import json"
      ],
      "execution_count": 7,
      "outputs": []
    },
    {
      "cell_type": "code",
      "metadata": {
        "id": "pIQuMaKydxSC"
      },
      "source": [
        "def switchPosition(coordinate):\n",
        "  temp = coordinate[0]\n",
        "  coordinate[0] = coordinate[1]\n",
        "  coordinate[1] = temp\n",
        "  return coordinate"
      ],
      "execution_count": 8,
      "outputs": []
    },
    {
      "cell_type": "code",
      "metadata": {
        "colab": {
          "base_uri": "https://localhost:8080/"
        },
        "id": "nfn2vUH1Sq5z",
        "outputId": "936166c0-6929-4545-bd4b-3fd3eb16a87a"
      },
      "source": [
        "with open(testGeoJson) as f:\n",
        "  testWay = json.load(f)\n",
        "\n",
        "for feature in testWay['features']:\n",
        "    path = feature['geometry']['coordinates']\n",
        "finalPath = list(map(switchPosition,path))\n",
        "finalPath"
      ],
      "execution_count": 9,
      "outputs": [
        {
          "output_type": "execute_result",
          "data": {
            "text/plain": [
              "[[49.49213534374249, 8.484166413545609],\n",
              " [49.49232786037041, 8.484299182891846],\n",
              " [49.49233047371309, 8.484493643045425],\n",
              " [49.492218099851804, 8.484871834516525],\n",
              " [49.49142363542676, 8.487555384635925],\n",
              " [49.49185222967887, 8.487834334373474],\n",
              " [49.491712849846046, 8.488343954086304],\n",
              " [49.492029938390125, 8.488638997077942],\n",
              " [49.49251776290861, 8.488982319831848],\n",
              " [49.49222506878094, 8.489341735839844],\n",
              " [49.49217977072383, 8.489529490470886],\n",
              " [49.49220764645621, 8.489856719970703]]"
            ]
          },
          "metadata": {
            "tags": []
          },
          "execution_count": 9
        }
      ]
    },
    {
      "cell_type": "code",
      "metadata": {
        "id": "obbYz7AwRL6K"
      },
      "source": [
        ""
      ],
      "execution_count": 9,
      "outputs": []
    },
    {
      "cell_type": "code",
      "metadata": {
        "id": "g_UAR_hEhh5u"
      },
      "source": [
        "class navigator:\n",
        "    def __init__(self):\n",
        "        self.geoResources = {}\n",
        "        self.hospitalLocation =(49.49216583285166, 8.484229445457458)\n",
        "        self.position = 'w'\n",
        "        self.destination = 'Haus17'\n",
        "\n",
        "        for root, dirs, files in os.walk('HospitalNavigator/GeoResources'):  \n",
        "            for file in files:\n",
        "                self.geoResources[file.split('.')[0]] = root+'/'+file\n",
        "\n",
        "    def changeDestination(self,newDestination):\n",
        "        self.destination = newDestination\n",
        "        self.redrawMap()\n",
        "\n",
        "    def changeStartPoint(self, newStartPoint):\n",
        "        pass\n",
        "        #self.position = newStartPoint #does not work yet\n",
        "        #self.redrawMap()\n",
        "\n",
        "    def drawPathWay(self,hospitalMap):\n",
        "      \n",
        "      def switchPosition(coordinate):\n",
        "        temp = coordinate[0]\n",
        "        coordinate[0] = coordinate[1]\n",
        "        coordinate[1] = temp\n",
        "        return coordinate\n",
        "\n",
        "      searchString = self.position + self.destination.split('Haus')[1]\n",
        "      with open(self.geoResources[searchString]) as f:\n",
        "           testWay = json.load(f)\n",
        "\n",
        "      for feature in testWay['features']:\n",
        "        path = feature['geometry']['coordinates']\n",
        "\n",
        "      finalPath = list(map(switchPosition,path))\n",
        "      folium.plugins.AntPath(finalPath).add_to(hospitalMap)\n",
        "\n",
        "    def drawBuilding(self,hospitalMap):\n",
        "      hauseOutline = self.geoResources[self.destination]\n",
        "      folium.GeoJson(hauseOutline, name=\"geojson\").add_to(hospitalMap)\n",
        "\n",
        "    def redrawMap(self):\n",
        "        print(f'position {self.position}, destination {self.destination}')\n",
        "        hospitalMap = folium.Map(location = self.hospitalLocation, width = \"75%\", zoom_start = 17)\n",
        "        self.drawPathWay(hospitalMap)\n",
        "        self.drawBuilding(hospitalMap)\n",
        "        display(hospitalMap)\n",
        "\n",
        "\n"
      ],
      "execution_count": 30,
      "outputs": []
    },
    {
      "cell_type": "code",
      "metadata": {
        "id": "NiF2NcmlVioA"
      },
      "source": [
        "myNavigator = navigator()"
      ],
      "execution_count": 26,
      "outputs": []
    },
    {
      "cell_type": "code",
      "metadata": {
        "id": "1KVHVrwnjD1H"
      },
      "source": [
        "def displayWay(whereTo):\n",
        "     myNavigator.changeDestination(whereTo)"
      ],
      "execution_count": 19,
      "outputs": []
    },
    {
      "cell_type": "code",
      "metadata": {
        "id": "pjRHgbd7jEPb"
      },
      "source": [
        "def changePosition(whereFrom):\n",
        "    myNavigator.changeStartPoint(whereFrom)"
      ],
      "execution_count": 20,
      "outputs": []
    },
    {
      "cell_type": "code",
      "metadata": {
        "colab": {
          "base_uri": "https://localhost:8080/",
          "height": 1000,
          "referenced_widgets": [
            "4f1c0f227bf74d78a0b4a090cf63566b",
            "70f88c63f2024df1a77ef3b104ee0482",
            "9ae86d08ffd94b6d8f3fad235f047fc6",
            "baa127e71a2a4228844a3dfab6c5ac7a",
            "c5ac08184d0a46ecbf7807108de924ff",
            "897b9ef05f8642a0a163df4b55961954",
            "b5e5332ad415400aad0dc6f01f3f44cb",
            "273706b29aab46719de506232d2c4095",
            "5d8712f8eba0410e915e85b26f30f82c",
            "4f1498b6fddd45288c6f9266e98e7ab3",
            "208ac547f91042bca91d1233659f020b",
            "aad51c6be1c54a6ba85bfe0d3288e4da",
            "8d84b9a1a6b944e7aeedd4d896f0246b",
            "0a729e69725a455d908af40c6694ad7a"
          ]
        },
        "id": "m1kE2QZlacKq",
        "outputId": "46dacf09-9086-4ba7-c60f-5436e1a580aa"
      },
      "source": [
        "# Destination Selector\n",
        "selectHouse_widget=ipywidgets.Select(\n",
        "    \n",
        "options=['Haus1',\n",
        "    'Haus10',\n",
        "    'Haus11',\n",
        "    'Haus12',\n",
        "    'Haus13',\n",
        "    'Haus14',\n",
        "    'Haus15',\n",
        "    'Haus16',\n",
        "    'Haus17',\n",
        "    'Haus19',\n",
        "    'Haus2',\n",
        "    'Haus20',\n",
        "    'Haus22',\n",
        "    'Haus24',\n",
        "    'Haus25',\n",
        "    'Haus26',\n",
        "    'Haus27',\n",
        "    'Haus28',\n",
        "    'Haus29',\n",
        "    'Haus3',\n",
        "    'Haus30',\n",
        "    'Haus31',\n",
        "    'Haus32',\n",
        "    'Haus33',\n",
        "    'Haus34',\n",
        "    'Haus35',\n",
        "    'Haus36',\n",
        "    'Haus37',\n",
        "    'Haus39',\n",
        "    'Haus4',\n",
        "    'Haus40',\n",
        "    'Haus41',\n",
        "    'Haus42',\n",
        "    'Haus43',\n",
        "    'Haus5',\n",
        "    'Haus6',\n",
        "    'Haus7',\n",
        "    'Haus8',\n",
        "    'Haus9'],\n",
        "    value='Haus17',\n",
        "    description='Wo wollen sie hin:',\n",
        "    disabled=False)\n",
        "\n",
        "# widget function\n",
        "def selectHouse(way):\n",
        "    if way == 'Haus1' :\n",
        "        displayWay('Haus1' ) \n",
        "    if way == 'Haus10':\n",
        "        displayWay('Haus10')\n",
        "    if way == 'Haus11':\n",
        "        displayWay('Haus11')\n",
        "    if way == 'Haus12':\n",
        "        displayWay('Haus12')\n",
        "    if way == 'Haus13':\n",
        "        displayWay('Haus13')\n",
        "    if way == 'Haus14':\n",
        "        displayWay('Haus14')\n",
        "    if way == 'Haus15':\n",
        "        displayWay('Haus15')\n",
        "    if way == 'Haus16':\n",
        "        displayWay('Haus16')\n",
        "    if way == 'Haus17':\n",
        "       displayWay('Haus17')\n",
        "    if way == 'Haus19':\n",
        "        displayWay('Haus19')\n",
        "    if way == 'Haus2' :\n",
        "        displayWay('Haus2' ) \n",
        "    if way == 'Haus20':\n",
        "        displayWay('Haus20')\n",
        "    if way == 'Haus22':\n",
        "        displayWay('Haus22')\n",
        "    if way == 'Haus24':\n",
        "        displayWay('Haus24')\n",
        "    if way == 'Haus25':\n",
        "        displayWay('Haus25')\n",
        "    if way == 'Haus26':\n",
        "        displayWay('Haus26')\n",
        "    if way == 'Haus27':\n",
        "        displayWay('Haus27')\n",
        "    if way == 'Haus28':\n",
        "        displayWay('Haus28')\n",
        "    if way == 'Haus29':\n",
        "        displayWay('Haus29')\n",
        "    if way == 'Haus3' :\n",
        "        displayWay('Haus3' ) \n",
        "    if way == 'Haus30':\n",
        "        displayWay('Haus30')\n",
        "    if way == 'Haus31':\n",
        "        displayWay('Haus31')\n",
        "    if way == 'Haus32':\n",
        "        displayWay('Haus32')\n",
        "    if way == 'Haus33':\n",
        "        displayWay('Haus33')\n",
        "    if way == 'Haus34':\n",
        "        displayWay('Haus34')\n",
        "    if way == 'Haus35':\n",
        "        displayWay('Haus35')\n",
        "    if way == 'Haus36':\n",
        "        displayWay('Haus36')\n",
        "    if way == 'Haus37':\n",
        "        displayWay('Haus37')\n",
        "    if way == 'Haus39':\n",
        "        displayWay('Haus39')\n",
        "    if way == 'Haus4' :\n",
        "        displayWay('Haus4' ) \n",
        "    if way == 'Haus40':\n",
        "        displayWay('Haus40')\n",
        "    if way == 'Haus41':\n",
        "        displayWay('Haus41')\n",
        "    if way == 'Haus42':\n",
        "        displayWay('Haus42')\n",
        "    if way == 'Haus43':\n",
        "        displayWay('Haus43')\n",
        "    if way == 'Haus5' :\n",
        "        displayWay('Haus5' ) \n",
        "    if way == 'Haus6' :\n",
        "        displayWay('Haus6' ) \n",
        "    if way == 'Haus7' :\n",
        "        displayWay('Haus7' ) \n",
        "    if way == 'Haus8' :\n",
        "        displayWay('Haus8' ) \n",
        "    if way == 'Haus9' :\n",
        "        displayWay('Haus9' ) \n",
        "\n",
        "# Position Selector\n",
        "selectPosition_widget=ipywidgets.Select(\n",
        "    options=['Aufnahme', 'Eingang West', 'Eingang Ost', 'Eingang Fahrzeuge'],\n",
        "    value='Eingang West',\n",
        "    description='Wo befinden sie sich:',\n",
        "    disabled=False)\n",
        "\n",
        "def selectPosition(position):\n",
        "    if position == 'Aufnahme':\n",
        "        changePosition('a')\n",
        "    if position == 'Eingang West':\n",
        "        changePosition('w')\n",
        "    if position == 'Eingang Ost':\n",
        "        changePosition('o')\n",
        "    if position == 'Eingang Fahrzeuge':\n",
        "        changePosition('f')\n",
        "        \n",
        "#Initialization   \n",
        "ipywidgets.interact(selectHouse, way=selectHouse_widget)\n",
        "ipywidgets.interact(selectPosition, position=selectPosition_widget)\n"
      ],
      "execution_count": 27,
      "outputs": [
        {
          "output_type": "display_data",
          "data": {
            "application/vnd.jupyter.widget-view+json": {
              "model_id": "4f1c0f227bf74d78a0b4a090cf63566b",
              "version_minor": 0,
              "version_major": 2
            },
            "text/plain": [
              "interactive(children=(Select(description='Wo wollen sie hin:', index=8, options=('Haus1', 'Haus10', 'Haus11', …"
            ]
          },
          "metadata": {
            "tags": []
          }
        },
        {
          "output_type": "display_data",
          "data": {
            "application/vnd.jupyter.widget-view+json": {
              "model_id": "273706b29aab46719de506232d2c4095",
              "version_minor": 0,
              "version_major": 2
            },
            "text/plain": [
              "interactive(children=(Select(description='Wo befinden sie sich:', index=1, options=('Aufnahme', 'Eingang West'…"
            ]
          },
          "metadata": {
            "tags": []
          }
        },
        {
          "output_type": "execute_result",
          "data": {
            "text/plain": [
              "<function __main__.selectPosition>"
            ]
          },
          "metadata": {
            "tags": []
          },
          "execution_count": 27
        }
      ]
    },
    {
      "cell_type": "code",
      "metadata": {
        "id": "gu_bjlTMPOnb"
      },
      "source": [
        ""
      ],
      "execution_count": 14,
      "outputs": []
    }
  ]
}